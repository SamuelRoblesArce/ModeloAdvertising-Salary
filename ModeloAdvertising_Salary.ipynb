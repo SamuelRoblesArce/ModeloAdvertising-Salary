{
  "nbformat": 4,
  "nbformat_minor": 0,
  "metadata": {
    "colab": {
      "provenance": [],
      "toc_visible": true,
      "include_colab_link": true
    },
    "kernelspec": {
      "name": "python3",
      "display_name": "Python 3"
    },
    "language_info": {
      "name": "python"
    }
  },
  "cells": [
    {
      "cell_type": "markdown",
      "metadata": {
        "id": "view-in-github",
        "colab_type": "text"
      },
      "source": [
        "<a href=\"https://colab.research.google.com/github/SamuelRoblesArce/ModeloAdvertising-Salary/blob/main/ModeloAdvertising_Salary.ipynb\" target=\"_parent\"><img src=\"https://colab.research.google.com/assets/colab-badge.svg\" alt=\"Open In Colab\"/></a>"
      ]
    },
    {
      "cell_type": "code",
      "execution_count": 15,
      "metadata": {
        "id": "3Gfhxr_kVY6N"
      },
      "outputs": [],
      "source": [
        "import numpy as np\n",
        "import matplotlib.pyplot as plt\n",
        "from sympy import *\n",
        "import scipy.io as sio\n",
        "from mpl_toolkits.mplot3d import Axes3D"
      ]
    },
    {
      "cell_type": "markdown",
      "source": [
        "# Modelo de Advertising"
      ],
      "metadata": {
        "id": "GUXiojtgzp4q"
      }
    },
    {
      "cell_type": "code",
      "source": [
        "!pip install -U -q PyDrive"
      ],
      "metadata": {
        "id": "DXX9WH6czvhj"
      },
      "execution_count": 5,
      "outputs": []
    },
    {
      "cell_type": "code",
      "source": [
        "from pydrive.auth import GoogleAuth\n",
        "from pydrive.drive import GoogleDrive\n",
        "from google.colab import auth\n",
        "from oauth2client.client import GoogleCredentials"
      ],
      "metadata": {
        "id": "EnZYpICwz54D"
      },
      "execution_count": 6,
      "outputs": []
    },
    {
      "cell_type": "code",
      "source": [
        "auth.authenticate_user()\n",
        "gauth = GoogleAuth()\n",
        "gauth.credentials = GoogleCredentials.get_application_default()\n",
        "drive = GoogleDrive(gauth)"
      ],
      "metadata": {
        "id": "tUYjo8mUz88s"
      },
      "execution_count": 7,
      "outputs": []
    },
    {
      "cell_type": "code",
      "source": [
        "downloaded = drive.CreateFile({'id':'1nO-10z73mFESbScV03fqGQ69wjRhmepr'})\n",
        "downloaded.GetContentFile('Advertising.csv')"
      ],
      "metadata": {
        "id": "YZihi6tlz9lw"
      },
      "execution_count": 8,
      "outputs": []
    },
    {
      "cell_type": "code",
      "source": [
        "import pandas as pd"
      ],
      "metadata": {
        "id": "50QDlpMa0BM0"
      },
      "execution_count": 9,
      "outputs": []
    },
    {
      "cell_type": "code",
      "source": [
        "datos = pd.read_csv('Advertising.csv',sep=',',encoding='latin-1')"
      ],
      "metadata": {
        "id": "B7mLxHGW0HD7"
      },
      "execution_count": 10,
      "outputs": []
    },
    {
      "cell_type": "code",
      "source": [
        "import seaborn as sns\n",
        "from sklearn import datasets\n",
        "from sklearn.metrics import r2_score"
      ],
      "metadata": {
        "id": "eeTIpyeH_Wwp"
      },
      "execution_count": 11,
      "outputs": []
    },
    {
      "cell_type": "code",
      "source": [
        "datos.head(10)"
      ],
      "metadata": {
        "colab": {
          "base_uri": "https://localhost:8080/",
          "height": 363
        },
        "id": "SEje85aD0ImG",
        "outputId": "16c3b0a8-8208-486e-9b04-2cb026c72029"
      },
      "execution_count": 12,
      "outputs": [
        {
          "output_type": "execute_result",
          "data": {
            "text/plain": [
              "   Unnamed: 0     TV  radio  newspaper  sales\n",
              "0           1  230.1   37.8       69.2   22.1\n",
              "1           2   44.5   39.3       45.1   10.4\n",
              "2           3   17.2   45.9       69.3    9.3\n",
              "3           4  151.5   41.3       58.5   18.5\n",
              "4           5  180.8   10.8       58.4   12.9\n",
              "5           6    8.7   48.9       75.0    7.2\n",
              "6           7   57.5   32.8       23.5   11.8\n",
              "7           8  120.2   19.6       11.6   13.2\n",
              "8           9    8.6    2.1        1.0    4.8\n",
              "9          10  199.8    2.6       21.2   10.6"
            ],
            "text/html": [
              "\n",
              "  <div id=\"df-72251002-644d-415f-a5d6-0fa2ea29ad47\" class=\"colab-df-container\">\n",
              "    <div>\n",
              "<style scoped>\n",
              "    .dataframe tbody tr th:only-of-type {\n",
              "        vertical-align: middle;\n",
              "    }\n",
              "\n",
              "    .dataframe tbody tr th {\n",
              "        vertical-align: top;\n",
              "    }\n",
              "\n",
              "    .dataframe thead th {\n",
              "        text-align: right;\n",
              "    }\n",
              "</style>\n",
              "<table border=\"1\" class=\"dataframe\">\n",
              "  <thead>\n",
              "    <tr style=\"text-align: right;\">\n",
              "      <th></th>\n",
              "      <th>Unnamed: 0</th>\n",
              "      <th>TV</th>\n",
              "      <th>radio</th>\n",
              "      <th>newspaper</th>\n",
              "      <th>sales</th>\n",
              "    </tr>\n",
              "  </thead>\n",
              "  <tbody>\n",
              "    <tr>\n",
              "      <th>0</th>\n",
              "      <td>1</td>\n",
              "      <td>230.1</td>\n",
              "      <td>37.8</td>\n",
              "      <td>69.2</td>\n",
              "      <td>22.1</td>\n",
              "    </tr>\n",
              "    <tr>\n",
              "      <th>1</th>\n",
              "      <td>2</td>\n",
              "      <td>44.5</td>\n",
              "      <td>39.3</td>\n",
              "      <td>45.1</td>\n",
              "      <td>10.4</td>\n",
              "    </tr>\n",
              "    <tr>\n",
              "      <th>2</th>\n",
              "      <td>3</td>\n",
              "      <td>17.2</td>\n",
              "      <td>45.9</td>\n",
              "      <td>69.3</td>\n",
              "      <td>9.3</td>\n",
              "    </tr>\n",
              "    <tr>\n",
              "      <th>3</th>\n",
              "      <td>4</td>\n",
              "      <td>151.5</td>\n",
              "      <td>41.3</td>\n",
              "      <td>58.5</td>\n",
              "      <td>18.5</td>\n",
              "    </tr>\n",
              "    <tr>\n",
              "      <th>4</th>\n",
              "      <td>5</td>\n",
              "      <td>180.8</td>\n",
              "      <td>10.8</td>\n",
              "      <td>58.4</td>\n",
              "      <td>12.9</td>\n",
              "    </tr>\n",
              "    <tr>\n",
              "      <th>5</th>\n",
              "      <td>6</td>\n",
              "      <td>8.7</td>\n",
              "      <td>48.9</td>\n",
              "      <td>75.0</td>\n",
              "      <td>7.2</td>\n",
              "    </tr>\n",
              "    <tr>\n",
              "      <th>6</th>\n",
              "      <td>7</td>\n",
              "      <td>57.5</td>\n",
              "      <td>32.8</td>\n",
              "      <td>23.5</td>\n",
              "      <td>11.8</td>\n",
              "    </tr>\n",
              "    <tr>\n",
              "      <th>7</th>\n",
              "      <td>8</td>\n",
              "      <td>120.2</td>\n",
              "      <td>19.6</td>\n",
              "      <td>11.6</td>\n",
              "      <td>13.2</td>\n",
              "    </tr>\n",
              "    <tr>\n",
              "      <th>8</th>\n",
              "      <td>9</td>\n",
              "      <td>8.6</td>\n",
              "      <td>2.1</td>\n",
              "      <td>1.0</td>\n",
              "      <td>4.8</td>\n",
              "    </tr>\n",
              "    <tr>\n",
              "      <th>9</th>\n",
              "      <td>10</td>\n",
              "      <td>199.8</td>\n",
              "      <td>2.6</td>\n",
              "      <td>21.2</td>\n",
              "      <td>10.6</td>\n",
              "    </tr>\n",
              "  </tbody>\n",
              "</table>\n",
              "</div>\n",
              "    <div class=\"colab-df-buttons\">\n",
              "\n",
              "  <div class=\"colab-df-container\">\n",
              "    <button class=\"colab-df-convert\" onclick=\"convertToInteractive('df-72251002-644d-415f-a5d6-0fa2ea29ad47')\"\n",
              "            title=\"Convert this dataframe to an interactive table.\"\n",
              "            style=\"display:none;\">\n",
              "\n",
              "  <svg xmlns=\"http://www.w3.org/2000/svg\" height=\"24px\" viewBox=\"0 -960 960 960\">\n",
              "    <path d=\"M120-120v-720h720v720H120Zm60-500h600v-160H180v160Zm220 220h160v-160H400v160Zm0 220h160v-160H400v160ZM180-400h160v-160H180v160Zm440 0h160v-160H620v160ZM180-180h160v-160H180v160Zm440 0h160v-160H620v160Z\"/>\n",
              "  </svg>\n",
              "    </button>\n",
              "\n",
              "  <style>\n",
              "    .colab-df-container {\n",
              "      display:flex;\n",
              "      gap: 12px;\n",
              "    }\n",
              "\n",
              "    .colab-df-convert {\n",
              "      background-color: #E8F0FE;\n",
              "      border: none;\n",
              "      border-radius: 50%;\n",
              "      cursor: pointer;\n",
              "      display: none;\n",
              "      fill: #1967D2;\n",
              "      height: 32px;\n",
              "      padding: 0 0 0 0;\n",
              "      width: 32px;\n",
              "    }\n",
              "\n",
              "    .colab-df-convert:hover {\n",
              "      background-color: #E2EBFA;\n",
              "      box-shadow: 0px 1px 2px rgba(60, 64, 67, 0.3), 0px 1px 3px 1px rgba(60, 64, 67, 0.15);\n",
              "      fill: #174EA6;\n",
              "    }\n",
              "\n",
              "    .colab-df-buttons div {\n",
              "      margin-bottom: 4px;\n",
              "    }\n",
              "\n",
              "    [theme=dark] .colab-df-convert {\n",
              "      background-color: #3B4455;\n",
              "      fill: #D2E3FC;\n",
              "    }\n",
              "\n",
              "    [theme=dark] .colab-df-convert:hover {\n",
              "      background-color: #434B5C;\n",
              "      box-shadow: 0px 1px 3px 1px rgba(0, 0, 0, 0.15);\n",
              "      filter: drop-shadow(0px 1px 2px rgba(0, 0, 0, 0.3));\n",
              "      fill: #FFFFFF;\n",
              "    }\n",
              "  </style>\n",
              "\n",
              "    <script>\n",
              "      const buttonEl =\n",
              "        document.querySelector('#df-72251002-644d-415f-a5d6-0fa2ea29ad47 button.colab-df-convert');\n",
              "      buttonEl.style.display =\n",
              "        google.colab.kernel.accessAllowed ? 'block' : 'none';\n",
              "\n",
              "      async function convertToInteractive(key) {\n",
              "        const element = document.querySelector('#df-72251002-644d-415f-a5d6-0fa2ea29ad47');\n",
              "        const dataTable =\n",
              "          await google.colab.kernel.invokeFunction('convertToInteractive',\n",
              "                                                    [key], {});\n",
              "        if (!dataTable) return;\n",
              "\n",
              "        const docLinkHtml = 'Like what you see? Visit the ' +\n",
              "          '<a target=\"_blank\" href=https://colab.research.google.com/notebooks/data_table.ipynb>data table notebook</a>'\n",
              "          + ' to learn more about interactive tables.';\n",
              "        element.innerHTML = '';\n",
              "        dataTable['output_type'] = 'display_data';\n",
              "        await google.colab.output.renderOutput(dataTable, element);\n",
              "        const docLink = document.createElement('div');\n",
              "        docLink.innerHTML = docLinkHtml;\n",
              "        element.appendChild(docLink);\n",
              "      }\n",
              "    </script>\n",
              "  </div>\n",
              "\n",
              "\n",
              "<div id=\"df-c4af6dbe-97b5-42e4-9ef6-7b1d6fdfbb4a\">\n",
              "  <button class=\"colab-df-quickchart\" onclick=\"quickchart('df-c4af6dbe-97b5-42e4-9ef6-7b1d6fdfbb4a')\"\n",
              "            title=\"Suggest charts\"\n",
              "            style=\"display:none;\">\n",
              "\n",
              "<svg xmlns=\"http://www.w3.org/2000/svg\" height=\"24px\"viewBox=\"0 0 24 24\"\n",
              "     width=\"24px\">\n",
              "    <g>\n",
              "        <path d=\"M19 3H5c-1.1 0-2 .9-2 2v14c0 1.1.9 2 2 2h14c1.1 0 2-.9 2-2V5c0-1.1-.9-2-2-2zM9 17H7v-7h2v7zm4 0h-2V7h2v10zm4 0h-2v-4h2v4z\"/>\n",
              "    </g>\n",
              "</svg>\n",
              "  </button>\n",
              "\n",
              "<style>\n",
              "  .colab-df-quickchart {\n",
              "      --bg-color: #E8F0FE;\n",
              "      --fill-color: #1967D2;\n",
              "      --hover-bg-color: #E2EBFA;\n",
              "      --hover-fill-color: #174EA6;\n",
              "      --disabled-fill-color: #AAA;\n",
              "      --disabled-bg-color: #DDD;\n",
              "  }\n",
              "\n",
              "  [theme=dark] .colab-df-quickchart {\n",
              "      --bg-color: #3B4455;\n",
              "      --fill-color: #D2E3FC;\n",
              "      --hover-bg-color: #434B5C;\n",
              "      --hover-fill-color: #FFFFFF;\n",
              "      --disabled-bg-color: #3B4455;\n",
              "      --disabled-fill-color: #666;\n",
              "  }\n",
              "\n",
              "  .colab-df-quickchart {\n",
              "    background-color: var(--bg-color);\n",
              "    border: none;\n",
              "    border-radius: 50%;\n",
              "    cursor: pointer;\n",
              "    display: none;\n",
              "    fill: var(--fill-color);\n",
              "    height: 32px;\n",
              "    padding: 0;\n",
              "    width: 32px;\n",
              "  }\n",
              "\n",
              "  .colab-df-quickchart:hover {\n",
              "    background-color: var(--hover-bg-color);\n",
              "    box-shadow: 0 1px 2px rgba(60, 64, 67, 0.3), 0 1px 3px 1px rgba(60, 64, 67, 0.15);\n",
              "    fill: var(--button-hover-fill-color);\n",
              "  }\n",
              "\n",
              "  .colab-df-quickchart-complete:disabled,\n",
              "  .colab-df-quickchart-complete:disabled:hover {\n",
              "    background-color: var(--disabled-bg-color);\n",
              "    fill: var(--disabled-fill-color);\n",
              "    box-shadow: none;\n",
              "  }\n",
              "\n",
              "  .colab-df-spinner {\n",
              "    border: 2px solid var(--fill-color);\n",
              "    border-color: transparent;\n",
              "    border-bottom-color: var(--fill-color);\n",
              "    animation:\n",
              "      spin 1s steps(1) infinite;\n",
              "  }\n",
              "\n",
              "  @keyframes spin {\n",
              "    0% {\n",
              "      border-color: transparent;\n",
              "      border-bottom-color: var(--fill-color);\n",
              "      border-left-color: var(--fill-color);\n",
              "    }\n",
              "    20% {\n",
              "      border-color: transparent;\n",
              "      border-left-color: var(--fill-color);\n",
              "      border-top-color: var(--fill-color);\n",
              "    }\n",
              "    30% {\n",
              "      border-color: transparent;\n",
              "      border-left-color: var(--fill-color);\n",
              "      border-top-color: var(--fill-color);\n",
              "      border-right-color: var(--fill-color);\n",
              "    }\n",
              "    40% {\n",
              "      border-color: transparent;\n",
              "      border-right-color: var(--fill-color);\n",
              "      border-top-color: var(--fill-color);\n",
              "    }\n",
              "    60% {\n",
              "      border-color: transparent;\n",
              "      border-right-color: var(--fill-color);\n",
              "    }\n",
              "    80% {\n",
              "      border-color: transparent;\n",
              "      border-right-color: var(--fill-color);\n",
              "      border-bottom-color: var(--fill-color);\n",
              "    }\n",
              "    90% {\n",
              "      border-color: transparent;\n",
              "      border-bottom-color: var(--fill-color);\n",
              "    }\n",
              "  }\n",
              "</style>\n",
              "\n",
              "  <script>\n",
              "    async function quickchart(key) {\n",
              "      const quickchartButtonEl =\n",
              "        document.querySelector('#' + key + ' button');\n",
              "      quickchartButtonEl.disabled = true;  // To prevent multiple clicks.\n",
              "      quickchartButtonEl.classList.add('colab-df-spinner');\n",
              "      try {\n",
              "        const charts = await google.colab.kernel.invokeFunction(\n",
              "            'suggestCharts', [key], {});\n",
              "      } catch (error) {\n",
              "        console.error('Error during call to suggestCharts:', error);\n",
              "      }\n",
              "      quickchartButtonEl.classList.remove('colab-df-spinner');\n",
              "      quickchartButtonEl.classList.add('colab-df-quickchart-complete');\n",
              "    }\n",
              "    (() => {\n",
              "      let quickchartButtonEl =\n",
              "        document.querySelector('#df-c4af6dbe-97b5-42e4-9ef6-7b1d6fdfbb4a button');\n",
              "      quickchartButtonEl.style.display =\n",
              "        google.colab.kernel.accessAllowed ? 'block' : 'none';\n",
              "    })();\n",
              "  </script>\n",
              "</div>\n",
              "\n",
              "    </div>\n",
              "  </div>\n"
            ],
            "application/vnd.google.colaboratory.intrinsic+json": {
              "type": "dataframe",
              "variable_name": "datos",
              "summary": "{\n  \"name\": \"datos\",\n  \"rows\": 200,\n  \"fields\": [\n    {\n      \"column\": \"Unnamed: 0\",\n      \"properties\": {\n        \"dtype\": \"number\",\n        \"std\": 57,\n        \"min\": 1,\n        \"max\": 200,\n        \"num_unique_values\": 200,\n        \"samples\": [\n          96,\n          16,\n          31\n        ],\n        \"semantic_type\": \"\",\n        \"description\": \"\"\n      }\n    },\n    {\n      \"column\": \"TV\",\n      \"properties\": {\n        \"dtype\": \"number\",\n        \"std\": 85.8542363149081,\n        \"min\": 0.7,\n        \"max\": 296.4,\n        \"num_unique_values\": 190,\n        \"samples\": [\n          287.6,\n          286.0,\n          78.2\n        ],\n        \"semantic_type\": \"\",\n        \"description\": \"\"\n      }\n    },\n    {\n      \"column\": \"radio\",\n      \"properties\": {\n        \"dtype\": \"number\",\n        \"std\": 14.846809176168723,\n        \"min\": 0.0,\n        \"max\": 49.6,\n        \"num_unique_values\": 167,\n        \"samples\": [\n          8.2,\n          36.9,\n          44.5\n        ],\n        \"semantic_type\": \"\",\n        \"description\": \"\"\n      }\n    },\n    {\n      \"column\": \"newspaper\",\n      \"properties\": {\n        \"dtype\": \"number\",\n        \"std\": 21.778620838522833,\n        \"min\": 0.3,\n        \"max\": 114.0,\n        \"num_unique_values\": 172,\n        \"samples\": [\n          22.3,\n          5.7,\n          17.0\n        ],\n        \"semantic_type\": \"\",\n        \"description\": \"\"\n      }\n    },\n    {\n      \"column\": \"sales\",\n      \"properties\": {\n        \"dtype\": \"number\",\n        \"std\": 5.217456565710477,\n        \"min\": 1.6,\n        \"max\": 27.0,\n        \"num_unique_values\": 121,\n        \"samples\": [\n          11.4,\n          21.2,\n          12.9\n        ],\n        \"semantic_type\": \"\",\n        \"description\": \"\"\n      }\n    }\n  ]\n}"
            }
          },
          "metadata": {},
          "execution_count": 12
        }
      ]
    },
    {
      "cell_type": "code",
      "source": [
        "matrix = datos.corr()\n",
        "\n",
        "# plotting correlation matrix\n",
        "sns.heatmap(matrix, cmap=\"coolwarm\", annot=True)\n",
        "plt.show()"
      ],
      "metadata": {
        "colab": {
          "base_uri": "https://localhost:8080/",
          "height": 435
        },
        "id": "GyFoWnAm_X-4",
        "outputId": "d73566e5-3555-4a7c-f018-2b7656b72a17"
      },
      "execution_count": 16,
      "outputs": [
        {
          "output_type": "display_data",
          "data": {
            "text/plain": [
              "<Figure size 640x480 with 2 Axes>"
            ],
            "image/png": "[encoded data removed]"
          },
          "metadata": {}
        }
      ]
    },
    {
      "cell_type": "markdown",
      "source": [
        "## Caso (a)\n",
        "\n",
        "Con los datos de Advertising determine el modelo lineal\n",
        "\n",
        "$$Sales = \\beta_0 + \\beta_1 \\times  Newspaper$$\n",
        "\n"
      ],
      "metadata": {
        "id": "DOrST2ISx4zj"
      }
    },
    {
      "cell_type": "code",
      "source": [
        "x=datos['newspaper']\n",
        "y=datos['sales']"
      ],
      "metadata": {
        "id": "AiLhQpkB1Y_2"
      },
      "execution_count": 17,
      "outputs": []
    },
    {
      "cell_type": "code",
      "source": [
        "x=np.array(x).reshape(-1,1) # Mudar para array\n",
        "y=np.array(y).reshape(-1,1) # Mudar para array\n",
        "N = len(y)"
      ],
      "metadata": {
        "id": "i8IxuTtr1hU0"
      },
      "execution_count": 18,
      "outputs": []
    },
    {
      "cell_type": "code",
      "source": [
        "# Computing Matrix X\n",
        "X = np.concatenate( [np.ones([N,1]),x],axis=1)\n",
        "\n",
        "# Solving X.t*X*betas=X.t*b\n",
        "betas = np.linalg.solve(X.T@X,X.T@y)\n",
        "\n",
        "print('b0=',betas[0])\n",
        "print('b1=',betas[1])"
      ],
      "metadata": {
        "colab": {
          "base_uri": "https://localhost:8080/"
        },
        "id": "TI0ddA3H1oan",
        "outputId": "c4beffb9-9c8d-4062-ab24-ff1ef247d0bb"
      },
      "execution_count": 19,
      "outputs": [
        {
          "output_type": "stream",
          "name": "stdout",
          "text": [
            "b0= [12.35140707]\n",
            "b1= [0.0546931]\n"
          ]
        }
      ]
    },
    {
      "cell_type": "code",
      "source": [
        "# Prediction\n",
        "yHat = X@betas"
      ],
      "metadata": {
        "id": "odwglNWL1sqn"
      },
      "execution_count": 20,
      "outputs": []
    },
    {
      "cell_type": "code",
      "source": [
        "# Plot data and model prediction\n",
        "plt.plot(x,y,'*',label='Data')\n",
        "plt.plot(x,yHat,'r',label='Model pred.')\n",
        "\n",
        "plt.legend()\n",
        "plt.show()"
      ],
      "metadata": {
        "colab": {
          "base_uri": "https://localhost:8080/",
          "height": 430
        },
        "id": "n66ZtiyN1tW9",
        "outputId": "136a1411-7aa9-4f86-c008-8fbcaf0ca8dc"
      },
      "execution_count": 21,
      "outputs": [
        {
          "output_type": "display_data",
          "data": {
            "text/plain": [
              "<Figure size 640x480 with 1 Axes>"
            ],
            "image/png": "[encoded data removed]"
          },
          "metadata": {}
        }
      ]
    },
    {
      "cell_type": "code",
      "source": [
        "print('MSE =',((yHat-y)**2).sum()/N)\n",
        "print('MAE =',abs(yHat-y).sum()/N)\n",
        "coefficient_of_dermination = r2_score(y, yHat)\n",
        "print('R2',coefficient_of_dermination)"
      ],
      "metadata": {
        "colab": {
          "base_uri": "https://localhost:8080/"
        },
        "id": "KRnrRUTi1xP-",
        "outputId": "170378bd-ff16-44b3-b401-7ce7f92b2c32"
      },
      "execution_count": 22,
      "outputs": [
        {
          "output_type": "stream",
          "name": "stdout",
          "text": [
            "MSE = 25.674022720559698\n",
            "MAE = 4.146559743838488\n",
            "R2 0.05212044544430516\n"
          ]
        }
      ]
    },
    {
      "cell_type": "markdown",
      "source": [
        "## Caso (b)\n",
        "\n",
        "Con los datos de Advertising determine el modelo lineal\n",
        "\n",
        "$$Sales = \\beta_0 + \\beta_1 \\times  Radio$$\n",
        "\n",
        "Además, obtener el MSE y MAE asociado."
      ],
      "metadata": {
        "id": "SQE-dYVz05Cn"
      }
    },
    {
      "cell_type": "code",
      "source": [
        "x=datos['radio']\n",
        "y=datos['sales']"
      ],
      "metadata": {
        "id": "TREQIoNMAGKP"
      },
      "execution_count": 23,
      "outputs": []
    },
    {
      "cell_type": "code",
      "source": [
        "x=np.array(x).reshape(-1,1) # Mudar para array\n",
        "y=np.array(y).reshape(-1,1) # Mudar para array\n",
        "N = len(y)"
      ],
      "metadata": {
        "id": "1y2XPJYMwK6j"
      },
      "execution_count": 24,
      "outputs": []
    },
    {
      "cell_type": "code",
      "source": [
        "# Computing Matrix X\n",
        "X = np.concatenate( [np.ones([N,1]),x],axis=1)\n",
        "\n",
        "# Solving X.t*X*betas=X.t*b\n",
        "betas = np.linalg.solve(X.T@X,X.T@y)\n",
        "\n",
        "print('b0=',betas[0])\n",
        "print('b1=',betas[1])"
      ],
      "metadata": {
        "colab": {
          "base_uri": "https://localhost:8080/"
        },
        "id": "Tij43KDfwPxu",
        "outputId": "5797acd3-acc0-4cf4-833b-751484cce275"
      },
      "execution_count": 25,
      "outputs": [
        {
          "output_type": "stream",
          "name": "stdout",
          "text": [
            "b0= [9.3116381]\n",
            "b1= [0.20249578]\n"
          ]
        }
      ]
    },
    {
      "cell_type": "code",
      "source": [
        "# Prediction\n",
        "yHat = X@betas"
      ],
      "metadata": {
        "id": "9O-Ku5zjwRby"
      },
      "execution_count": 26,
      "outputs": []
    },
    {
      "cell_type": "code",
      "source": [
        "# Plot data and model prediction\n",
        "plt.plot(x,y,'*',label='Data')\n",
        "plt.plot(x,yHat,'r',label='Model pred.')\n",
        "\n",
        "plt.legend()\n",
        "plt.show()"
      ],
      "metadata": {
        "colab": {
          "base_uri": "https://localhost:8080/",
          "height": 430
        },
        "id": "RuHLGEY1wUeS",
        "outputId": "b89c67f2-99b2-431f-d78f-6818b676fb42"
      },
      "execution_count": 27,
      "outputs": [
        {
          "output_type": "display_data",
          "data": {
            "text/plain": [
              "<Figure size 640x480 with 1 Axes>"
            ],
            "image/png": "[encoded data removed]"
          },
          "metadata": {}
        }
      ]
    },
    {
      "cell_type": "code",
      "source": [
        "print('MSE =',((yHat-y)**2).sum()/N)\n",
        "print('MAE =',abs(yHat-y).sum()/N)\n",
        "coefficient_of_dermination = r2_score(y, yHat)\n",
        "print('R2 =',coefficient_of_dermination)"
      ],
      "metadata": {
        "colab": {
          "base_uri": "https://localhost:8080/"
        },
        "id": "0LBIp8Kwwdzr",
        "outputId": "5d9b504d-1bba-4a2b-a01a-f0b186d0c9c7"
      },
      "execution_count": 28,
      "outputs": [
        {
          "output_type": "stream",
          "name": "stdout",
          "text": [
            "MSE = 18.09239774512544\n",
            "MAE = 3.3202187976420667\n",
            "R2 = 0.33203245544529536\n"
          ]
        }
      ]
    },
    {
      "cell_type": "markdown",
      "source": [
        "## Caso (c)\n",
        "\n",
        "Con los datos de Advertising determine el modelo lineal\n",
        "\n",
        "$$Sales = \\beta_0 + \\beta_1 \\times  TV$$\n",
        "\n",
        "Además, obtener el MSE y MAE asociado."
      ],
      "metadata": {
        "id": "l3G7iHVu1BFJ"
      }
    },
    {
      "cell_type": "code",
      "source": [
        "x=datos['TV']\n",
        "y=datos['sales']"
      ],
      "metadata": {
        "id": "w8RGfDcfwm6z"
      },
      "execution_count": 29,
      "outputs": []
    },
    {
      "cell_type": "code",
      "source": [
        "x=np.array(x).reshape(-1,1) # Mudar para array\n",
        "y=np.array(y).reshape(-1,1) # Mudar para array\n",
        "N = len(y)"
      ],
      "metadata": {
        "id": "fFWkhzKvwt6b"
      },
      "execution_count": 30,
      "outputs": []
    },
    {
      "cell_type": "code",
      "source": [
        "# Computing Matrix X\n",
        "X = np.concatenate( [np.ones([N,1]),x],axis=1)\n",
        "\n",
        "# Solving X.t*X*betas=X.t*b\n",
        "betas = np.linalg.solve(X.T@X,X.T@y)\n",
        "\n",
        "print('b0=',betas[0])\n",
        "print('b1=',betas[1])"
      ],
      "metadata": {
        "colab": {
          "base_uri": "https://localhost:8080/"
        },
        "id": "zp1XJMhzwwRh",
        "outputId": "5b3da8a8-7de2-4d4b-886d-36ebee2071cf"
      },
      "execution_count": 31,
      "outputs": [
        {
          "output_type": "stream",
          "name": "stdout",
          "text": [
            "b0= [7.03259355]\n",
            "b1= [0.04753664]\n"
          ]
        }
      ]
    },
    {
      "cell_type": "code",
      "source": [
        "# Prediction\n",
        "yHat = X@betas"
      ],
      "metadata": {
        "id": "MgsT8Sb6w02R"
      },
      "execution_count": 32,
      "outputs": []
    },
    {
      "cell_type": "code",
      "source": [
        "# Plot data and model prediction\n",
        "plt.plot(x,y,'*',label='Data')\n",
        "plt.plot(x,yHat,'r',label='Model pred.')\n",
        "\n",
        "plt.legend()\n",
        "plt.show()"
      ],
      "metadata": {
        "colab": {
          "base_uri": "https://localhost:8080/",
          "height": 430
        },
        "id": "grszXRhjw4Ki",
        "outputId": "d7860f4f-470a-432a-d115-a1f171001ced"
      },
      "execution_count": 33,
      "outputs": [
        {
          "output_type": "display_data",
          "data": {
            "text/plain": [
              "<Figure size 640x480 with 1 Axes>"
            ],
            "image/png": "[encoded data removed]"
          },
          "metadata": {}
        }
      ]
    },
    {
      "cell_type": "code",
      "source": [
        "print('MSE =',((yHat-y)**2).sum()/N)\n",
        "print('MAE =',abs(yHat-y).sum()/N)\n",
        "coefficient_of_dermination = r2_score(y, yHat)\n",
        "print('R2 =',coefficient_of_dermination)"
      ],
      "metadata": {
        "colab": {
          "base_uri": "https://localhost:8080/"
        },
        "id": "ysTYpoAnw8jr",
        "outputId": "5cd719ff-d0f2-40ee-c2d9-fcbe468a4dba"
      },
      "execution_count": 34,
      "outputs": [
        {
          "output_type": "stream",
          "name": "stdout",
          "text": [
            "MSE = 10.512652915656759\n",
            "MAE = 2.549806038927487\n",
            "R2 = 0.611875050850071\n"
          ]
        }
      ]
    },
    {
      "cell_type": "markdown",
      "source": [
        "## Caso (d)\n",
        "\n",
        "Con los datos de Advertising determine el modelo lineal\n",
        "\n",
        "$$Sales = \\beta_0 + \\beta_1 \\times  TV + \\beta_2 \\times  Radio + \\beta_3 \\times  Newspaper$$\n",
        "\n",
        "Además, obtener el MSE y MAE asociado."
      ],
      "metadata": {
        "id": "Z2oiDguW3MBz"
      }
    },
    {
      "cell_type": "code",
      "source": [
        "x1=datos['TV']\n",
        "x2=datos['radio']\n",
        "x3=datos['newspaper']\n",
        "y=datos['sales']"
      ],
      "metadata": {
        "id": "CfInNo98w-Sy"
      },
      "execution_count": 35,
      "outputs": []
    },
    {
      "cell_type": "code",
      "source": [
        "x1=np.array(x1).reshape(-1,1) # Mudar para array\n",
        "x2=np.array(x2).reshape(-1,1) # Mudar para array\n",
        "x3=np.array(x3).reshape(-1,1) # Mudar para array\n",
        "\n",
        "y=np.array(y).reshape(-1,1) # Mudar para array\n",
        "N = len(y)"
      ],
      "metadata": {
        "id": "mO8OZUafxKaz"
      },
      "execution_count": 36,
      "outputs": []
    },
    {
      "cell_type": "code",
      "source": [
        "# Computing Matrix X\n",
        "X = np.concatenate( [np.ones([N,1]),x1,x2,x3],axis=1)\n",
        "\n",
        "# Solving X.t*X*betas=X.t*b\n",
        "betas = np.linalg.solve(X.T@X,X.T@y)\n",
        "\n",
        "print('b0=',betas[0])\n",
        "print('b1=',betas[1])\n",
        "print('b2=',betas[2])\n",
        "print('b3=',betas[3])"
      ],
      "metadata": {
        "colab": {
          "base_uri": "https://localhost:8080/"
        },
        "id": "0Z86i7AqxXuj",
        "outputId": "1a6dd51d-8ef6-4557-fbc2-b52af555f26d"
      },
      "execution_count": 37,
      "outputs": [
        {
          "output_type": "stream",
          "name": "stdout",
          "text": [
            "b0= [2.93888937]\n",
            "b1= [0.04576465]\n",
            "b2= [0.18853002]\n",
            "b3= [-0.00103749]\n"
          ]
        }
      ]
    },
    {
      "cell_type": "code",
      "source": [
        "# Prediction\n",
        "yHat = X@betas"
      ],
      "metadata": {
        "id": "NO1L9togx4lr"
      },
      "execution_count": 38,
      "outputs": []
    },
    {
      "cell_type": "code",
      "source": [
        "print('MSE =',((yHat-y)**2).sum()/N)\n",
        "print('MAE =',abs(yHat-y).sum()/N)\n",
        "coefficient_of_dermination = r2_score(y, yHat)\n",
        "print('R2 =',coefficient_of_dermination)"
      ],
      "metadata": {
        "colab": {
          "base_uri": "https://localhost:8080/"
        },
        "id": "a4nQoDO4yUPc",
        "outputId": "820518ac-e413-4fc4-cb1c-c79434b45018"
      },
      "execution_count": 39,
      "outputs": [
        {
          "output_type": "stream",
          "name": "stdout",
          "text": [
            "MSE = 2.7841263145109365\n",
            "MAE = 1.2520112296870707\n",
            "R2 = 0.8972106381789521\n"
          ]
        }
      ]
    },
    {
      "cell_type": "markdown",
      "source": [
        "## Caso (e)\n",
        "\n",
        "Con los datos de Advertising determine el modelo lineal\n",
        "\n",
        "$$Sales = \\beta_0 + \\beta_1 \\times  TV + \\beta_2 \\times  Radio + \\beta_3 \\times  TV \\times  Radio$$\n",
        "\n",
        "Además, obtener el MSE y MAE asociado."
      ],
      "metadata": {
        "id": "OgJp70Du3qXn"
      }
    },
    {
      "cell_type": "code",
      "source": [
        "x1=datos['TV']\n",
        "x2=datos['radio']\n",
        "x3=datos['TV']*datos['radio']\n",
        "y=datos['sales']"
      ],
      "metadata": {
        "id": "qoVMO2OZyqcD"
      },
      "execution_count": 40,
      "outputs": []
    },
    {
      "cell_type": "code",
      "source": [
        "x1=np.array(x1).reshape(-1,1) # Mudar para array\n",
        "x2=np.array(x2).reshape(-1,1) # Mudar para array\n",
        "x3=np.array(x3).reshape(-1,1) # Mudar para array\n",
        "\n",
        "y=np.array(y).reshape(-1,1) # Mudar para array\n",
        "N = len(y)"
      ],
      "metadata": {
        "id": "J29VjhgvyzPC"
      },
      "execution_count": 41,
      "outputs": []
    },
    {
      "cell_type": "code",
      "source": [
        "# Computing Matrix X\n",
        "X = np.concatenate( [np.ones([N,1]),x1,x2,x3],axis=1)\n",
        "\n",
        "# Solving X.t*X*betas=X.t*b\n",
        "betas = np.linalg.solve(X.T@X,X.T@y)\n",
        "\n",
        "print('b0=',betas[0])\n",
        "print('b1=',betas[1])\n",
        "print('b2=',betas[2])\n",
        "print('b3=',betas[3])"
      ],
      "metadata": {
        "colab": {
          "base_uri": "https://localhost:8080/"
        },
        "id": "r4JYPIxry0WM",
        "outputId": "37cf4727-113c-4e37-de69-7217ddca4527"
      },
      "execution_count": 42,
      "outputs": [
        {
          "output_type": "stream",
          "name": "stdout",
          "text": [
            "b0= [6.7502202]\n",
            "b1= [0.01910107]\n",
            "b2= [0.02886034]\n",
            "b3= [0.00108649]\n"
          ]
        }
      ]
    },
    {
      "cell_type": "code",
      "source": [
        "# Prediction\n",
        "yHat = X@betas"
      ],
      "metadata": {
        "id": "ug7aU94QzRtf"
      },
      "execution_count": 43,
      "outputs": []
    },
    {
      "cell_type": "code",
      "source": [
        "print('MSE =',((yHat-y)**2).sum()/N)\n",
        "print('MAE =',abs(yHat-y).sum()/N)\n",
        "coefficient_of_dermination = r2_score(y, yHat)\n",
        "print('R2 =',coefficient_of_dermination)"
      ],
      "metadata": {
        "colab": {
          "base_uri": "https://localhost:8080/"
        },
        "id": "_u6Uc4XnzTkb",
        "outputId": "e9042118-26af-4014-b535-d92511312ac8"
      },
      "execution_count": 44,
      "outputs": [
        {
          "output_type": "stream",
          "name": "stdout",
          "text": [
            "MSE = 0.8724169131386358\n",
            "MAE = 0.6604837217764878\n",
            "R2 = 0.9677905498482523\n"
          ]
        }
      ]
    },
    {
      "cell_type": "markdown",
      "source": [
        "# Predictor de Salario\n",
        "Usar el conjunto de datos Salary_dataset y determinar los modelos de regresión polinomial de la forma:\n",
        "\n",
        "\n",
        "$$Salary = \\beta_0 + \\beta_1 \\times  \\text{YearsExperience} + \\beta_1 \\times  \\text{YearsExperience}^{2}+ \\cdots + \\beta_P\\text{YearsExperience}^{P} $$\n",
        "\n",
        "Evaluar para cada $P=1,2,3,4,5$ en función del MSE, MAE y $R^2$\n"
      ],
      "metadata": {
        "id": "mQt5zVVf4bsw"
      }
    },
    {
      "cell_type": "code",
      "source": [
        "downloaded = drive.CreateFile({'id':'1jZOUBQRgKZT6o1omztXV2ndx-_JcIsak'})\n",
        "downloaded.GetContentFile('Salary_dataset.csv')\n",
        "datos2 = pd.read_csv('Salary_dataset.csv',sep=',',encoding='latin-1')\n",
        "datos2=datos2[['YearsExperience','Salary']]\n",
        "datos2.head()"
      ],
      "metadata": {
        "id": "MTUOekAF4xgh",
        "colab": {
          "base_uri": "https://localhost:8080/",
          "height": 206
        },
        "outputId": "485ea72c-8bbc-49f8-826f-8690cdb02971"
      },
      "execution_count": 45,
      "outputs": [
        {
          "output_type": "execute_result",
          "data": {
            "text/plain": [
              "   YearsExperience   Salary\n",
              "0              1.2  39344.0\n",
              "1              1.4  46206.0\n",
              "2              1.6  37732.0\n",
              "3              2.1  43526.0\n",
              "4              2.3  39892.0"
            ],
            "text/html": [
              "\n",
              "  <div id=\"df-e7685d26-4563-45c9-9c57-59ad5c6f0de9\" class=\"colab-df-container\">\n",
              "    <div>\n",
              "<style scoped>\n",
              "    .dataframe tbody tr th:only-of-type {\n",
              "        vertical-align: middle;\n",
              "    }\n",
              "\n",
              "    .dataframe tbody tr th {\n",
              "        vertical-align: top;\n",
              "    }\n",
              "\n",
              "    .dataframe thead th {\n",
              "        text-align: right;\n",
              "    }\n",
              "</style>\n",
              "<table border=\"1\" class=\"dataframe\">\n",
              "  <thead>\n",
              "    <tr style=\"text-align: right;\">\n",
              "      <th></th>\n",
              "      <th>YearsExperience</th>\n",
              "      <th>Salary</th>\n",
              "    </tr>\n",
              "  </thead>\n",
              "  <tbody>\n",
              "    <tr>\n",
              "      <th>0</th>\n",
              "      <td>1.2</td>\n",
              "      <td>39344.0</td>\n",
              "    </tr>\n",
              "    <tr>\n",
              "      <th>1</th>\n",
              "      <td>1.4</td>\n",
              "      <td>46206.0</td>\n",
              "    </tr>\n",
              "    <tr>\n",
              "      <th>2</th>\n",
              "      <td>1.6</td>\n",
              "      <td>37732.0</td>\n",
              "    </tr>\n",
              "    <tr>\n",
              "      <th>3</th>\n",
              "      <td>2.1</td>\n",
              "      <td>43526.0</td>\n",
              "    </tr>\n",
              "    <tr>\n",
              "      <th>4</th>\n",
              "      <td>2.3</td>\n",
              "      <td>39892.0</td>\n",
              "    </tr>\n",
              "  </tbody>\n",
              "</table>\n",
              "</div>\n",
              "    <div class=\"colab-df-buttons\">\n",
              "\n",
              "  <div class=\"colab-df-container\">\n",
              "    <button class=\"colab-df-convert\" onclick=\"convertToInteractive('df-e7685d26-4563-45c9-9c57-59ad5c6f0de9')\"\n",
              "            title=\"Convert this dataframe to an interactive table.\"\n",
              "            style=\"display:none;\">\n",
              "\n",
              "  <svg xmlns=\"http://www.w3.org/2000/svg\" height=\"24px\" viewBox=\"0 -960 960 960\">\n",
              "    <path d=\"M120-120v-720h720v720H120Zm60-500h600v-160H180v160Zm220 220h160v-160H400v160Zm0 220h160v-160H400v160ZM180-400h160v-160H180v160Zm440 0h160v-160H620v160ZM180-180h160v-160H180v160Zm440 0h160v-160H620v160Z\"/>\n",
              "  </svg>\n",
              "    </button>\n",
              "\n",
              "  <style>\n",
              "    .colab-df-container {\n",
              "      display:flex;\n",
              "      gap: 12px;\n",
              "    }\n",
              "\n",
              "    .colab-df-convert {\n",
              "      background-color: #E8F0FE;\n",
              "      border: none;\n",
              "      border-radius: 50%;\n",
              "      cursor: pointer;\n",
              "      display: none;\n",
              "      fill: #1967D2;\n",
              "      height: 32px;\n",
              "      padding: 0 0 0 0;\n",
              "      width: 32px;\n",
              "    }\n",
              "\n",
              "    .colab-df-convert:hover {\n",
              "      background-color: #E2EBFA;\n",
              "      box-shadow: 0px 1px 2px rgba(60, 64, 67, 0.3), 0px 1px 3px 1px rgba(60, 64, 67, 0.15);\n",
              "      fill: #174EA6;\n",
              "    }\n",
              "\n",
              "    .colab-df-buttons div {\n",
              "      margin-bottom: 4px;\n",
              "    }\n",
              "\n",
              "    [theme=dark] .colab-df-convert {\n",
              "      background-color: #3B4455;\n",
              "      fill: #D2E3FC;\n",
              "    }\n",
              "\n",
              "    [theme=dark] .colab-df-convert:hover {\n",
              "      background-color: #434B5C;\n",
              "      box-shadow: 0px 1px 3px 1px rgba(0, 0, 0, 0.15);\n",
              "      filter: drop-shadow(0px 1px 2px rgba(0, 0, 0, 0.3));\n",
              "      fill: #FFFFFF;\n",
              "    }\n",
              "  </style>\n",
              "\n",
              "    <script>\n",
              "      const buttonEl =\n",
              "        document.querySelector('#df-e7685d26-4563-45c9-9c57-59ad5c6f0de9 button.colab-df-convert');\n",
              "      buttonEl.style.display =\n",
              "        google.colab.kernel.accessAllowed ? 'block' : 'none';\n",
              "\n",
              "      async function convertToInteractive(key) {\n",
              "        const element = document.querySelector('#df-e7685d26-4563-45c9-9c57-59ad5c6f0de9');\n",
              "        const dataTable =\n",
              "          await google.colab.kernel.invokeFunction('convertToInteractive',\n",
              "                                                    [key], {});\n",
              "        if (!dataTable) return;\n",
              "\n",
              "        const docLinkHtml = 'Like what you see? Visit the ' +\n",
              "          '<a target=\"_blank\" href=https://colab.research.google.com/notebooks/data_table.ipynb>data table notebook</a>'\n",
              "          + ' to learn more about interactive tables.';\n",
              "        element.innerHTML = '';\n",
              "        dataTable['output_type'] = 'display_data';\n",
              "        await google.colab.output.renderOutput(dataTable, element);\n",
              "        const docLink = document.createElement('div');\n",
              "        docLink.innerHTML = docLinkHtml;\n",
              "        element.appendChild(docLink);\n",
              "      }\n",
              "    </script>\n",
              "  </div>\n",
              "\n",
              "\n",
              "<div id=\"df-21554cbd-aa16-4e04-9191-3ec916dbc5fc\">\n",
              "  <button class=\"colab-df-quickchart\" onclick=\"quickchart('df-21554cbd-aa16-4e04-9191-3ec916dbc5fc')\"\n",
              "            title=\"Suggest charts\"\n",
              "            style=\"display:none;\">\n",
              "\n",
              "<svg xmlns=\"http://www.w3.org/2000/svg\" height=\"24px\"viewBox=\"0 0 24 24\"\n",
              "     width=\"24px\">\n",
              "    <g>\n",
              "        <path d=\"M19 3H5c-1.1 0-2 .9-2 2v14c0 1.1.9 2 2 2h14c1.1 0 2-.9 2-2V5c0-1.1-.9-2-2-2zM9 17H7v-7h2v7zm4 0h-2V7h2v10zm4 0h-2v-4h2v4z\"/>\n",
              "    </g>\n",
              "</svg>\n",
              "  </button>\n",
              "\n",
              "<style>\n",
              "  .colab-df-quickchart {\n",
              "      --bg-color: #E8F0FE;\n",
              "      --fill-color: #1967D2;\n",
              "      --hover-bg-color: #E2EBFA;\n",
              "      --hover-fill-color: #174EA6;\n",
              "      --disabled-fill-color: #AAA;\n",
              "      --disabled-bg-color: #DDD;\n",
              "  }\n",
              "\n",
              "  [theme=dark] .colab-df-quickchart {\n",
              "      --bg-color: #3B4455;\n",
              "      --fill-color: #D2E3FC;\n",
              "      --hover-bg-color: #434B5C;\n",
              "      --hover-fill-color: #FFFFFF;\n",
              "      --disabled-bg-color: #3B4455;\n",
              "      --disabled-fill-color: #666;\n",
              "  }\n",
              "\n",
              "  .colab-df-quickchart {\n",
              "    background-color: var(--bg-color);\n",
              "    border: none;\n",
              "    border-radius: 50%;\n",
              "    cursor: pointer;\n",
              "    display: none;\n",
              "    fill: var(--fill-color);\n",
              "    height: 32px;\n",
              "    padding: 0;\n",
              "    width: 32px;\n",
              "  }\n",
              "\n",
              "  .colab-df-quickchart:hover {\n",
              "    background-color: var(--hover-bg-color);\n",
              "    box-shadow: 0 1px 2px rgba(60, 64, 67, 0.3), 0 1px 3px 1px rgba(60, 64, 67, 0.15);\n",
              "    fill: var(--button-hover-fill-color);\n",
              "  }\n",
              "\n",
              "  .colab-df-quickchart-complete:disabled,\n",
              "  .colab-df-quickchart-complete:disabled:hover {\n",
              "    background-color: var(--disabled-bg-color);\n",
              "    fill: var(--disabled-fill-color);\n",
              "    box-shadow: none;\n",
              "  }\n",
              "\n",
              "  .colab-df-spinner {\n",
              "    border: 2px solid var(--fill-color);\n",
              "    border-color: transparent;\n",
              "    border-bottom-color: var(--fill-color);\n",
              "    animation:\n",
              "      spin 1s steps(1) infinite;\n",
              "  }\n",
              "\n",
              "  @keyframes spin {\n",
              "    0% {\n",
              "      border-color: transparent;\n",
              "      border-bottom-color: var(--fill-color);\n",
              "      border-left-color: var(--fill-color);\n",
              "    }\n",
              "    20% {\n",
              "      border-color: transparent;\n",
              "      border-left-color: var(--fill-color);\n",
              "      border-top-color: var(--fill-color);\n",
              "    }\n",
              "    30% {\n",
              "      border-color: transparent;\n",
              "      border-left-color: var(--fill-color);\n",
              "      border-top-color: var(--fill-color);\n",
              "      border-right-color: var(--fill-color);\n",
              "    }\n",
              "    40% {\n",
              "      border-color: transparent;\n",
              "      border-right-color: var(--fill-color);\n",
              "      border-top-color: var(--fill-color);\n",
              "    }\n",
              "    60% {\n",
              "      border-color: transparent;\n",
              "      border-right-color: var(--fill-color);\n",
              "    }\n",
              "    80% {\n",
              "      border-color: transparent;\n",
              "      border-right-color: var(--fill-color);\n",
              "      border-bottom-color: var(--fill-color);\n",
              "    }\n",
              "    90% {\n",
              "      border-color: transparent;\n",
              "      border-bottom-color: var(--fill-color);\n",
              "    }\n",
              "  }\n",
              "</style>\n",
              "\n",
              "  <script>\n",
              "    async function quickchart(key) {\n",
              "      const quickchartButtonEl =\n",
              "        document.querySelector('#' + key + ' button');\n",
              "      quickchartButtonEl.disabled = true;  // To prevent multiple clicks.\n",
              "      quickchartButtonEl.classList.add('colab-df-spinner');\n",
              "      try {\n",
              "        const charts = await google.colab.kernel.invokeFunction(\n",
              "            'suggestCharts', [key], {});\n",
              "      } catch (error) {\n",
              "        console.error('Error during call to suggestCharts:', error);\n",
              "      }\n",
              "      quickchartButtonEl.classList.remove('colab-df-spinner');\n",
              "      quickchartButtonEl.classList.add('colab-df-quickchart-complete');\n",
              "    }\n",
              "    (() => {\n",
              "      let quickchartButtonEl =\n",
              "        document.querySelector('#df-21554cbd-aa16-4e04-9191-3ec916dbc5fc button');\n",
              "      quickchartButtonEl.style.display =\n",
              "        google.colab.kernel.accessAllowed ? 'block' : 'none';\n",
              "    })();\n",
              "  </script>\n",
              "</div>\n",
              "\n",
              "    </div>\n",
              "  </div>\n"
            ],
            "application/vnd.google.colaboratory.intrinsic+json": {
              "type": "dataframe",
              "variable_name": "datos2",
              "summary": "{\n  \"name\": \"datos2\",\n  \"rows\": 30,\n  \"fields\": [\n    {\n      \"column\": \"YearsExperience\",\n      \"properties\": {\n        \"dtype\": \"number\",\n        \"std\": 2.8378881576627184,\n        \"min\": 1.2000000000000002,\n        \"max\": 10.6,\n        \"num_unique_values\": 28,\n        \"samples\": [\n          4.0,\n          9.7,\n          3.8\n        ],\n        \"semantic_type\": \"\",\n        \"description\": \"\"\n      }\n    },\n    {\n      \"column\": \"Salary\",\n      \"properties\": {\n        \"dtype\": \"number\",\n        \"std\": 27414.4297845823,\n        \"min\": 37732.0,\n        \"max\": 122392.0,\n        \"num_unique_values\": 30,\n        \"samples\": [\n          112636.0,\n          67939.0,\n          113813.0\n        ],\n        \"semantic_type\": \"\",\n        \"description\": \"\"\n      }\n    }\n  ]\n}"
            }
          },
          "metadata": {},
          "execution_count": 45
        }
      ]
    },
    {
      "cell_type": "code",
      "source": [
        "matrix2 = datos2.corr()\n",
        "\n",
        "# plotting correlation matrix\n",
        "sns.heatmap(matrix2, cmap=\"coolwarm\", annot=True)\n",
        "plt.show()"
      ],
      "metadata": {
        "colab": {
          "base_uri": "https://localhost:8080/",
          "height": 435
        },
        "id": "ppXF4A4qCWi8",
        "outputId": "255bbf38-3984-48cd-99e2-48b6fd2db7f9"
      },
      "execution_count": 46,
      "outputs": [
        {
          "output_type": "display_data",
          "data": {
            "text/plain": [
              "<Figure size 640x480 with 2 Axes>"
            ],
            "image/png": "[encoded data removed]"
          },
          "metadata": {}
        }
      ]
    },
    {
      "cell_type": "code",
      "source": [
        "# Normalize\n",
        "datos2['YearsExperience_normalized'] = datos2['YearsExperience'] / np.linalg.norm(datos2['YearsExperience'])\n",
        "datos2['Salary_normalized'] = datos2['Salary'] / np.linalg.norm(datos2['Salary'])\n",
        "\n",
        "print(datos2.head())"
      ],
      "metadata": {
        "colab": {
          "base_uri": "https://localhost:8080/"
        },
        "id": "qfJMyGUV4r_0",
        "outputId": "d84a631b-38a3-41dd-a5f6-b83ea86698dc"
      },
      "execution_count": 47,
      "outputs": [
        {
          "output_type": "stream",
          "name": "stdout",
          "text": [
            "   YearsExperience   Salary  YearsExperience_normalized  Salary_normalized\n",
            "0              1.2  39344.0                    0.035975           0.089075\n",
            "1              1.4  46206.0                    0.041970           0.104611\n",
            "2              1.6  37732.0                    0.047966           0.085426\n",
            "3              2.1  43526.0                    0.062956           0.098543\n",
            "4              2.3  39892.0                    0.068951           0.090316\n"
          ]
        }
      ]
    },
    {
      "cell_type": "code",
      "source": [
        "datos2['YearsExperience_normalized2'] = np.log(datos2['YearsExperience'])\n",
        "datos2['Salary_normalized2'] = np.log(datos2['Salary'])\n",
        "\n",
        "print(datos2.head())"
      ],
      "metadata": {
        "colab": {
          "base_uri": "https://localhost:8080/"
        },
        "id": "uci7k127-2Zt",
        "outputId": "6743d6cb-1ea3-4e51-e9ec-f6fa6a8edb8d"
      },
      "execution_count": 48,
      "outputs": [
        {
          "output_type": "stream",
          "name": "stdout",
          "text": [
            "   YearsExperience   Salary  YearsExperience_normalized  Salary_normalized  \\\n",
            "0              1.2  39344.0                    0.035975           0.089075   \n",
            "1              1.4  46206.0                    0.041970           0.104611   \n",
            "2              1.6  37732.0                    0.047966           0.085426   \n",
            "3              2.1  43526.0                    0.062956           0.098543   \n",
            "4              2.3  39892.0                    0.068951           0.090316   \n",
            "\n",
            "   YearsExperience_normalized2  Salary_normalized2  \n",
            "0                     0.182322           10.580099  \n",
            "1                     0.336472           10.740865  \n",
            "2                     0.470004           10.538264  \n",
            "3                     0.741937           10.681114  \n",
            "4                     0.832909           10.593931  \n"
          ]
        }
      ]
    },
    {
      "cell_type": "markdown",
      "source": [
        "## P1"
      ],
      "metadata": {
        "id": "neM89m8LzeHb"
      }
    },
    {
      "cell_type": "code",
      "source": [
        "x=datos2['YearsExperience']\n",
        "y=datos2['Salary']"
      ],
      "metadata": {
        "id": "7pHScpcWzidi"
      },
      "execution_count": 49,
      "outputs": []
    },
    {
      "cell_type": "code",
      "source": [
        "x=np.array(x).reshape(-1,1) # Mudar para array\n",
        "y=np.array(y).reshape(-1,1) # Mudar para array\n",
        "N = len(y)"
      ],
      "metadata": {
        "id": "w3l1BaZx0DAu"
      },
      "execution_count": 50,
      "outputs": []
    },
    {
      "cell_type": "code",
      "source": [
        "# Computing Matrix X\n",
        "X = np.concatenate( [np.ones([N,1]),x],axis=1)\n",
        "\n",
        "# Solving X.t*X*betas=X.t*b\n",
        "betas = np.linalg.solve(X.T@X,X.T@y)\n",
        "\n",
        "print('b0=',betas[0])\n",
        "print('b1=',betas[1])"
      ],
      "metadata": {
        "colab": {
          "base_uri": "https://localhost:8080/"
        },
        "id": "ngxC5AaC0Dsg",
        "outputId": "ef4556cf-cfe0-4736-8dde-0ccc85e9c108"
      },
      "execution_count": 51,
      "outputs": [
        {
          "output_type": "stream",
          "name": "stdout",
          "text": [
            "b0= [24848.20396652]\n",
            "b1= [9449.96232146]\n"
          ]
        }
      ]
    },
    {
      "cell_type": "code",
      "source": [
        "# Prediction\n",
        "yHat = X@betas"
      ],
      "metadata": {
        "id": "NcKsWYHk0IDb"
      },
      "execution_count": 52,
      "outputs": []
    },
    {
      "cell_type": "code",
      "source": [
        "# Plot data and model prediction\n",
        "plt.plot(x,y,'*',label='Data')\n",
        "plt.plot(x,yHat,'r',label='Model pred.')\n",
        "\n",
        "plt.legend()\n",
        "plt.show()"
      ],
      "metadata": {
        "colab": {
          "base_uri": "https://localhost:8080/",
          "height": 430
        },
        "id": "U64P24hG0NzC",
        "outputId": "a1df73fb-a19f-4ee8-a5a2-ca4dee4c80c3"
      },
      "execution_count": 53,
      "outputs": [
        {
          "output_type": "display_data",
          "data": {
            "text/plain": [
              "<Figure size 640x480 with 1 Axes>"
            ],
            "image/png": "[encoded data removed]"
          },
          "metadata": {}
        }
      ]
    },
    {
      "cell_type": "code",
      "source": [
        "print('MSE =',((yHat-y)**2).sum()/N)\n",
        "print('MAE =',abs(yHat-y).sum()/N)\n",
        "coefficient_of_dermination = r2_score(y, yHat)\n",
        "print('R2',coefficient_of_dermination)"
      ],
      "metadata": {
        "colab": {
          "base_uri": "https://localhost:8080/"
        },
        "id": "ym9KujNQ0TdS",
        "outputId": "817acf74-44b3-45eb-c307-2fa96dfce2fc"
      },
      "execution_count": 54,
      "outputs": [
        {
          "output_type": "stream",
          "name": "stdout",
          "text": [
            "MSE = 31270951.722280946\n",
            "MAE = 4644.201289443537\n",
            "R2 0.9569566641435086\n"
          ]
        }
      ]
    },
    {
      "cell_type": "markdown",
      "source": [
        "## P2"
      ],
      "metadata": {
        "id": "anORu2nY0YCy"
      }
    },
    {
      "cell_type": "code",
      "source": [
        "x=datos2['YearsExperience']\n",
        "y=datos2['Salary']"
      ],
      "metadata": {
        "id": "HQcWQhiZ0Zlq"
      },
      "execution_count": 55,
      "outputs": []
    },
    {
      "cell_type": "code",
      "source": [
        "x=np.array(x).reshape(-1,1) # Mudar para array\n",
        "y=np.array(y).reshape(-1,1) # Mudar para array\n",
        "N = len(y)"
      ],
      "metadata": {
        "id": "Ssfpin9i0uXK"
      },
      "execution_count": 56,
      "outputs": []
    },
    {
      "cell_type": "code",
      "source": [
        "# Computing Matrix X\n",
        "X = np.concatenate( [np.ones([N,1]),x,x**2],axis=1)\n",
        "\n",
        "# Solving X.t*X*betas=X.t*b\n",
        "betas = np.linalg.solve(X.T@X,X.T@y)\n",
        "\n",
        "print('b0=',betas[0])\n",
        "print('b1=',betas[1])\n",
        "print('b2=',betas[2])"
      ],
      "metadata": {
        "colab": {
          "base_uri": "https://localhost:8080/"
        },
        "id": "qWM5sKLo01az",
        "outputId": "015bcd83-4f48-4674-f1f2-17ff7b95db40"
      },
      "execution_count": 57,
      "outputs": [
        {
          "output_type": "stream",
          "name": "stdout",
          "text": [
            "b0= [25290.1682139]\n",
            "b1= [9256.00537494]\n",
            "b2= [16.39256632]\n"
          ]
        }
      ]
    },
    {
      "cell_type": "code",
      "source": [
        "# Prediction\n",
        "yHat = X@betas"
      ],
      "metadata": {
        "id": "2BMQgVLI0-8L"
      },
      "execution_count": 58,
      "outputs": []
    },
    {
      "cell_type": "code",
      "source": [
        "# Plot data and model prediction\n",
        "plt.plot(x,y,'*',label='Data')\n",
        "plt.plot(x,yHat,'r',label='Model pred.')\n",
        "\n",
        "plt.legend()\n",
        "plt.show()"
      ],
      "metadata": {
        "colab": {
          "base_uri": "https://localhost:8080/",
          "height": 430
        },
        "id": "6023Fn4r1ZY7",
        "outputId": "e579e8ea-2de4-40b1-8354-6d5a3026e4a8"
      },
      "execution_count": 59,
      "outputs": [
        {
          "output_type": "display_data",
          "data": {
            "text/plain": [
              "<Figure size 640x480 with 1 Axes>"
            ],
            "image/png": "[encoded data removed]"
          },
          "metadata": {}
        }
      ]
    },
    {
      "cell_type": "code",
      "source": [
        "print('MSE =',((yHat-y)**2).sum()/N)\n",
        "print('MAE =',abs(yHat-y).sum()/N)\n",
        "coefficient_of_dermination = r2_score(y, yHat)\n",
        "print('R^2=',coefficient_of_dermination)"
      ],
      "metadata": {
        "colab": {
          "base_uri": "https://localhost:8080/"
        },
        "id": "PBmpBK-a1bUa",
        "outputId": "cb2b9caa-a6fa-4010-a5c6-2f57b17eefe5"
      },
      "execution_count": 60,
      "outputs": [
        {
          "output_type": "stream",
          "name": "stdout",
          "text": [
            "MSE = 31257508.45094719\n",
            "MAE = 4653.069044746794\n",
            "R^2= 0.956975168321065\n"
          ]
        }
      ]
    },
    {
      "cell_type": "markdown",
      "source": [
        "## P3"
      ],
      "metadata": {
        "id": "hBn19AQB1rly"
      }
    },
    {
      "cell_type": "code",
      "source": [
        "# Computing Matrix X\n",
        "X = np.concatenate( [np.ones([N,1]),x,x**2,x**3],axis=1)\n",
        "\n",
        "# Solving X.t*X*betas=X.t*b\n",
        "betas = np.linalg.solve(X.T@X,X.T@y)\n",
        "\n",
        "print('b0=',betas[0])\n",
        "print('b1=',betas[1])\n",
        "print('b2=',betas[2])\n",
        "print('b3=',betas[3])"
      ],
      "metadata": {
        "colab": {
          "base_uri": "https://localhost:8080/"
        },
        "id": "AiKCGaaT1u6R",
        "outputId": "4c37a510-db54-446f-a41a-10c880788c77"
      },
      "execution_count": 61,
      "outputs": [
        {
          "output_type": "stream",
          "name": "stdout",
          "text": [
            "b0= [38957.05912647]\n",
            "b1= [-1142.26626586]\n",
            "b2= [2136.22657061]\n",
            "b3= [-122.91541434]\n"
          ]
        }
      ]
    },
    {
      "cell_type": "code",
      "source": [
        "# Prediction\n",
        "yHat = X@betas"
      ],
      "metadata": {
        "id": "HtLBls8t12aT"
      },
      "execution_count": 62,
      "outputs": []
    },
    {
      "cell_type": "code",
      "source": [
        "# Plot data and model prediction\n",
        "plt.plot(x,y,'*',label='Data')\n",
        "plt.plot(x,yHat,'r',label='Model pred.')\n",
        "\n",
        "plt.legend()\n",
        "plt.show()"
      ],
      "metadata": {
        "colab": {
          "base_uri": "https://localhost:8080/",
          "height": 430
        },
        "id": "zkYTUO1D14Za",
        "outputId": "0beac508-a090-439b-8012-946ca751e65b"
      },
      "execution_count": 63,
      "outputs": [
        {
          "output_type": "display_data",
          "data": {
            "text/plain": [
              "<Figure size 640x480 with 1 Axes>"
            ],
            "image/png": "[encoded data removed]"
          },
          "metadata": {}
        }
      ]
    },
    {
      "cell_type": "code",
      "source": [
        "print('MSE =',((yHat-y)**2).sum()/N)\n",
        "print('MAE =',abs(yHat-y).sum()/N)\n",
        "coefficient_of_dermination = r2_score(y, yHat)\n",
        "print('R^2=',coefficient_of_dermination)"
      ],
      "metadata": {
        "colab": {
          "base_uri": "https://localhost:8080/"
        },
        "id": "T1b04DBH17zt",
        "outputId": "cde9391c-d301-48b0-d5fe-6f80594ca7f7"
      },
      "execution_count": 64,
      "outputs": [
        {
          "output_type": "stream",
          "name": "stdout",
          "text": [
            "MSE = 26446769.606837768\n",
            "MAE = 4269.070457553549\n",
            "R^2= 0.9635969766249464\n"
          ]
        }
      ]
    },
    {
      "cell_type": "markdown",
      "source": [
        "## P4"
      ],
      "metadata": {
        "id": "mSYEEKT41-kT"
      }
    },
    {
      "cell_type": "code",
      "source": [
        "# Computing Matrix X\n",
        "X = np.concatenate( [np.ones([N,1]),x,x**2,x**3,x**4],axis=1)\n",
        "\n",
        "# Solving X.t*X*betas=X.t*b\n",
        "betas = np.linalg.solve(X.T@X,X.T@y)\n",
        "\n",
        "print('b0=',betas[0])\n",
        "print('b1=',betas[1])\n",
        "print('b2=',betas[2])\n",
        "print('b3=',betas[3])\n",
        "print('b4=',betas[4])"
      ],
      "metadata": {
        "colab": {
          "base_uri": "https://localhost:8080/"
        },
        "id": "1SrAIFOU2BPC",
        "outputId": "864c563f-e382-4d40-aae2-1cd8bd19be60"
      },
      "execution_count": 65,
      "outputs": [
        {
          "output_type": "stream",
          "name": "stdout",
          "text": [
            "b0= [41527.20924163]\n",
            "b1= [-3917.3462211]\n",
            "b2= [3051.18354255]\n",
            "b3= [-238.55611829]\n",
            "b4= [4.92429166]\n"
          ]
        }
      ]
    },
    {
      "cell_type": "code",
      "source": [
        "# Prediction\n",
        "yHat = X@betas"
      ],
      "metadata": {
        "id": "YNr6vl4o2GDL"
      },
      "execution_count": 66,
      "outputs": []
    },
    {
      "cell_type": "code",
      "source": [
        "# Plot data and model prediction\n",
        "plt.plot(x,y,'*',label='Data')\n",
        "plt.plot(x,yHat,'r',label='Model pred.')\n",
        "\n",
        "plt.legend()\n",
        "plt.show()"
      ],
      "metadata": {
        "colab": {
          "base_uri": "https://localhost:8080/",
          "height": 430
        },
        "id": "3Ev8GxfJ2IJz",
        "outputId": "b46ddc97-87be-4553-b86f-6ca2490fcdc5"
      },
      "execution_count": 67,
      "outputs": [
        {
          "output_type": "display_data",
          "data": {
            "text/plain": [
              "<Figure size 640x480 with 1 Axes>"
            ],
            "image/png": "[encoded data removed]"
          },
          "metadata": {}
        }
      ]
    },
    {
      "cell_type": "code",
      "source": [
        "print('MSE =',((yHat-y)**2).sum()/N)\n",
        "print('MAE =',abs(yHat-y).sum()/N)\n",
        "coefficient_of_dermination = r2_score(y, yHat)\n",
        "print('R^2=',coefficient_of_dermination)"
      ],
      "metadata": {
        "colab": {
          "base_uri": "https://localhost:8080/"
        },
        "id": "gdG-BASy2Kez",
        "outputId": "8f4aa245-3cb9-4ee8-d804-3db57d9b8606"
      },
      "execution_count": 68,
      "outputs": [
        {
          "output_type": "stream",
          "name": "stdout",
          "text": [
            "MSE = 26403845.62388004\n",
            "MAE = 4265.608949008578\n",
            "R^2= 0.9636560599375092\n"
          ]
        }
      ]
    },
    {
      "cell_type": "markdown",
      "source": [
        "## P5"
      ],
      "metadata": {
        "id": "jPGBPm4K2RO8"
      }
    },
    {
      "cell_type": "code",
      "source": [
        "# Computing Matrix X\n",
        "X = np.concatenate( [np.ones([N,1]),x,x**2,x**3,x**4,x**5],axis=1)\n",
        "\n",
        "# Solving X.t*X*betas=X.t*b\n",
        "betas = np.linalg.solve(X.T@X,X.T@y)\n",
        "\n",
        "print('b0=',betas[0])\n",
        "print('b1=',betas[1])\n",
        "print('b2=',betas[2])\n",
        "print('b3=',betas[3])\n",
        "print('b4=',betas[4])\n",
        "print('b5=',betas[5])"
      ],
      "metadata": {
        "colab": {
          "base_uri": "https://localhost:8080/"
        },
        "id": "sRr9op1y2Q8E",
        "outputId": "96ede765-fff2-4edb-db5d-c599e5513cf2"
      },
      "execution_count": 69,
      "outputs": [
        {
          "output_type": "stream",
          "name": "stdout",
          "text": [
            "b0= [3752.68273328]\n",
            "b1= [47659.51237271]\n",
            "b2= [-20716.5524746]\n",
            "b3= [4583.25809393]\n",
            "b4= [-437.6287511]\n",
            "b5= [15.00642077]\n"
          ]
        }
      ]
    },
    {
      "cell_type": "code",
      "source": [
        "# Prediction\n",
        "yHat = X@betas"
      ],
      "metadata": {
        "id": "kxnTMgJR2md7"
      },
      "execution_count": 70,
      "outputs": []
    },
    {
      "cell_type": "code",
      "source": [
        "# Plot data and model prediction\n",
        "plt.plot(x,y,'*',label='Data')\n",
        "plt.plot(x,yHat,'r',label='Model pred.')\n",
        "\n",
        "plt.legend()\n",
        "plt.show()"
      ],
      "metadata": {
        "colab": {
          "base_uri": "https://localhost:8080/",
          "height": 430
        },
        "id": "SDZBzd052o8K",
        "outputId": "4ed7d0ac-46ba-4a71-db23-7d15c97751cd"
      },
      "execution_count": 71,
      "outputs": [
        {
          "output_type": "display_data",
          "data": {
            "text/plain": [
              "<Figure size 640x480 with 1 Axes>"
            ],
            "image/png": "[encoded data removed]"
          },
          "metadata": {}
        }
      ]
    },
    {
      "cell_type": "code",
      "source": [
        "print('MSE =',((yHat-y)**2).sum()/N)\n",
        "print('MAE =',abs(yHat-y).sum()/N)\n",
        "coefficient_of_dermination = r2_score(y, yHat)\n",
        "print('R^2=',coefficient_of_dermination)"
      ],
      "metadata": {
        "colab": {
          "base_uri": "https://localhost:8080/"
        },
        "id": "SAgGsn4N2ryC",
        "outputId": "9f18e8a5-8b74-4442-fa2b-e6650eba8508"
      },
      "execution_count": 72,
      "outputs": [
        {
          "output_type": "stream",
          "name": "stdout",
          "text": [
            "MSE = 24297997.74883127\n",
            "MAE = 4126.050957208505\n",
            "R^2= 0.966554683495673\n"
          ]
        }
      ]
    },
    {
      "cell_type": "markdown",
      "source": [
        "## P1 Normalizado"
      ],
      "metadata": {
        "id": "GeABQ83l5VeT"
      }
    },
    {
      "cell_type": "code",
      "source": [
        "x=datos2['YearsExperience_normalized']\n",
        "y=datos2['Salary_normalized']"
      ],
      "metadata": {
        "id": "t0ukIwee5YJm"
      },
      "execution_count": 73,
      "outputs": []
    },
    {
      "cell_type": "code",
      "source": [
        "x=np.array(x).reshape(-1,1) # Mudar para array\n",
        "y=np.array(y).reshape(-1,1) # Mudar para array\n",
        "N = len(y)"
      ],
      "metadata": {
        "id": "RP0NYdzO5g_c"
      },
      "execution_count": 74,
      "outputs": []
    },
    {
      "cell_type": "code",
      "source": [
        "# Computing Matrix X\n",
        "X = np.concatenate( [np.ones([N,1]),x],axis=1)\n",
        "\n",
        "# Solving X.t*X*betas=X.t*b\n",
        "betas = np.linalg.solve(X.T@X,X.T@y)\n",
        "\n",
        "print('b0=',betas[0])\n",
        "print('b1=',betas[1])"
      ],
      "metadata": {
        "colab": {
          "base_uri": "https://localhost:8080/"
        },
        "id": "T0i66TJ85hl6",
        "outputId": "95ecfad2-48df-4dde-b2d4-359ed85a5603"
      },
      "execution_count": 75,
      "outputs": [
        {
          "output_type": "stream",
          "name": "stdout",
          "text": [
            "b0= [0.05625666]\n",
            "b1= [0.71366456]\n"
          ]
        }
      ]
    },
    {
      "cell_type": "code",
      "source": [
        "# Prediction\n",
        "yHat = X@betas"
      ],
      "metadata": {
        "id": "KdqslDgf5kpz"
      },
      "execution_count": 76,
      "outputs": []
    },
    {
      "cell_type": "code",
      "source": [
        "# Plot data and model prediction\n",
        "plt.plot(x,y,'*',label='Data')\n",
        "plt.plot(x,yHat,'r',label='Model pred.')\n",
        "\n",
        "plt.legend()\n",
        "plt.show()"
      ],
      "metadata": {
        "colab": {
          "base_uri": "https://localhost:8080/",
          "height": 430
        },
        "id": "IBwWz7vm5lYj",
        "outputId": "620d2cea-6655-42ac-cf76-db2af44511c2"
      },
      "execution_count": 77,
      "outputs": [
        {
          "output_type": "display_data",
          "data": {
            "text/plain": [
              "<Figure size 640x480 with 1 Axes>"
            ],
            "image/png": "[encoded data removed]"
          },
          "metadata": {}
        }
      ]
    },
    {
      "cell_type": "code",
      "source": [
        "print('MSE =',((yHat-y)**2).sum()/N)\n",
        "print('MAE =',abs(yHat-y).sum()/N)\n",
        "coefficient_of_dermination = r2_score(y, yHat)\n",
        "print('R2',coefficient_of_dermination)"
      ],
      "metadata": {
        "colab": {
          "base_uri": "https://localhost:8080/"
        },
        "id": "2bsbP2rv5nsq",
        "outputId": "300e1f70-bcef-4c7c-96d2-202a7ab4d06e"
      },
      "execution_count": 78,
      "outputs": [
        {
          "output_type": "stream",
          "name": "stdout",
          "text": [
            "MSE = 0.00016028723084092865\n",
            "MAE = 0.010514532026457626\n",
            "R2 0.9569566641435086\n"
          ]
        }
      ]
    },
    {
      "cell_type": "markdown",
      "source": [
        "## P2 Normalizado"
      ],
      "metadata": {
        "id": "pzN_F_hU5rWi"
      }
    },
    {
      "cell_type": "code",
      "source": [
        "# Computing Matrix X\n",
        "X = np.concatenate( [np.ones([N,1]),x,x**2],axis=1)\n",
        "\n",
        "# Solving X.t*X*betas=X.t*b\n",
        "betas = np.linalg.solve(X.T@X,X.T@y)\n",
        "\n",
        "print('b0=',betas[0])\n",
        "print('b1=',betas[1])\n",
        "print('b2=',betas[2])"
      ],
      "metadata": {
        "colab": {
          "base_uri": "https://localhost:8080/"
        },
        "id": "zno6bw0K5t28",
        "outputId": "218d34e2-d1bb-4cb9-ef2f-eaddd24a86de"
      },
      "execution_count": 79,
      "outputs": [
        {
          "output_type": "stream",
          "name": "stdout",
          "text": [
            "b0= [0.05725727]\n",
            "b1= [0.69901686]\n",
            "b2= [0.04129487]\n"
          ]
        }
      ]
    },
    {
      "cell_type": "code",
      "source": [
        "# Prediction\n",
        "yHat = X@betas"
      ],
      "metadata": {
        "id": "zdL6aMQB5wYb"
      },
      "execution_count": 80,
      "outputs": []
    },
    {
      "cell_type": "code",
      "source": [
        "# Plot data and model prediction\n",
        "plt.plot(x,y,'*',label='Data')\n",
        "plt.plot(x,yHat,'r',label='Model pred.')\n",
        "\n",
        "plt.legend()\n",
        "plt.show()"
      ],
      "metadata": {
        "colab": {
          "base_uri": "https://localhost:8080/",
          "height": 430
        },
        "id": "71duAN6J6CwV",
        "outputId": "2cb4a37c-ff2f-486f-aca8-784008f75a1e"
      },
      "execution_count": 81,
      "outputs": [
        {
          "output_type": "display_data",
          "data": {
            "text/plain": [
              "<Figure size 640x480 with 1 Axes>"
            ],
            "image/png": "[encoded data removed]"
          },
          "metadata": {}
        }
      ]
    },
    {
      "cell_type": "code",
      "source": [
        "print('MSE =',((yHat-y)**2).sum()/N)\n",
        "print('MAE =',abs(yHat-y).sum()/N)\n",
        "coefficient_of_dermination = r2_score(y, yHat)\n",
        "print('R^2=',coefficient_of_dermination)"
      ],
      "metadata": {
        "colab": {
          "base_uri": "https://localhost:8080/"
        },
        "id": "f-2ybuRB6Hz9",
        "outputId": "abcee9fc-16b2-4466-bc7c-39aec75bd380"
      },
      "execution_count": 82,
      "outputs": [
        {
          "output_type": "stream",
          "name": "stdout",
          "text": [
            "MSE = 0.00016021832392838341\n",
            "MAE = 0.010534608739616275\n",
            "R^2= 0.956975168321065\n"
          ]
        }
      ]
    },
    {
      "cell_type": "markdown",
      "source": [
        "## P3 Normalizado"
      ],
      "metadata": {
        "id": "qeWCN7OJ6LF-"
      }
    },
    {
      "cell_type": "code",
      "source": [
        "# Computing Matrix X\n",
        "X = np.concatenate( [np.ones([N,1]),x,x**2,x**3],axis=1)\n",
        "\n",
        "# Solving X.t*X*betas=X.t*b\n",
        "betas = np.linalg.solve(X.T@X,X.T@y)\n",
        "\n",
        "print('b0=',betas[0])\n",
        "print('b1=',betas[1])\n",
        "print('b2=',betas[2])\n",
        "print('b3=',betas[3])"
      ],
      "metadata": {
        "colab": {
          "base_uri": "https://localhost:8080/"
        },
        "id": "VIRtHtlv6NXb",
        "outputId": "96bb3754-81fe-4840-c8ea-fb625e1e784a"
      },
      "execution_count": 83,
      "outputs": [
        {
          "output_type": "stream",
          "name": "stdout",
          "text": [
            "b0= [0.08819929]\n",
            "b1= [-0.08626436]\n",
            "b2= [5.38141528]\n",
            "b3= [-10.32858162]\n"
          ]
        }
      ]
    },
    {
      "cell_type": "code",
      "source": [
        "# Prediction\n",
        "yHat = X@betas"
      ],
      "metadata": {
        "id": "iMsbve2r6PZj"
      },
      "execution_count": 84,
      "outputs": []
    },
    {
      "cell_type": "code",
      "source": [
        "# Plot data and model prediction\n",
        "plt.plot(x,y,'*',label='Data')\n",
        "plt.plot(x,yHat,'r',label='Model pred.')\n",
        "\n",
        "plt.legend()\n",
        "plt.show()"
      ],
      "metadata": {
        "colab": {
          "base_uri": "https://localhost:8080/",
          "height": 430
        },
        "id": "CXt0-vlL6Rbp",
        "outputId": "d22648a1-c662-4fd6-d2cb-440b1a60362a"
      },
      "execution_count": 85,
      "outputs": [
        {
          "output_type": "display_data",
          "data": {
            "text/plain": [
              "<Figure size 640x480 with 1 Axes>"
            ],
            "image/png": "[encoded data removed]"
          },
          "metadata": {}
        }
      ]
    },
    {
      "cell_type": "code",
      "source": [
        "print('MSE =',((yHat-y)**2).sum()/N)\n",
        "print('MAE =',abs(yHat-y).sum()/N)\n",
        "coefficient_of_dermination = r2_score(y, yHat)\n",
        "print('R^2=',coefficient_of_dermination)"
      ],
      "metadata": {
        "colab": {
          "base_uri": "https://localhost:8080/"
        },
        "id": "t8gPptcQ6UIR",
        "outputId": "8aeec073-a4c9-44b5-b05f-b84d419c41dd"
      },
      "execution_count": 86,
      "outputs": [
        {
          "output_type": "stream",
          "name": "stdout",
          "text": [
            "MSE = 0.00013555965621435382\n",
            "MAE = 0.009665230951805971\n",
            "R^2= 0.9635969766249463\n"
          ]
        }
      ]
    },
    {
      "cell_type": "markdown",
      "source": [
        "## P4 Normalizado"
      ],
      "metadata": {
        "id": "pCdh2geS6XW7"
      }
    },
    {
      "cell_type": "code",
      "source": [
        "# Computing Matrix X\n",
        "X = np.concatenate( [np.ones([N,1]),x,x**2,x**3,x**4],axis=1)\n",
        "\n",
        "# Solving X.t*X*betas=X.t*b\n",
        "betas = np.linalg.solve(X.T@X,X.T@y)\n",
        "\n",
        "print('b0=',betas[0])\n",
        "print('b1=',betas[1])\n",
        "print('b2=',betas[2])\n",
        "print('b3=',betas[3])\n",
        "print('b4=',betas[4])"
      ],
      "metadata": {
        "colab": {
          "base_uri": "https://localhost:8080/"
        },
        "id": "1F74Ipxs6ZSf",
        "outputId": "16114930-9779-4e7a-e90d-6a45b14a4e59"
      },
      "execution_count": 87,
      "outputs": [
        {
          "output_type": "stream",
          "name": "stdout",
          "text": [
            "b0= [0.09401814]\n",
            "b1= [-0.2958394]\n",
            "b2= [7.68630349]\n",
            "b3= [-20.04586936]\n",
            "b4= [13.80267444]\n"
          ]
        }
      ]
    },
    {
      "cell_type": "code",
      "source": [
        "# Prediction\n",
        "yHat = X@betas"
      ],
      "metadata": {
        "id": "GOUyWp_s6bIL"
      },
      "execution_count": 88,
      "outputs": []
    },
    {
      "cell_type": "code",
      "source": [
        "# Plot data and model prediction\n",
        "plt.plot(x,y,'*',label='Data')\n",
        "plt.plot(x,yHat,'r',label='Model pred.')\n",
        "\n",
        "plt.legend()\n",
        "plt.show()"
      ],
      "metadata": {
        "colab": {
          "base_uri": "https://localhost:8080/",
          "height": 430
        },
        "id": "zZviT2Ee6c2D",
        "outputId": "251bf42e-945a-40ef-8634-a1daf9af9c5e"
      },
      "execution_count": 89,
      "outputs": [
        {
          "output_type": "display_data",
          "data": {
            "text/plain": [
              "<Figure size 640x480 with 1 Axes>"
            ],
            "image/png": "[encoded data removed]"
          },
          "metadata": {}
        }
      ]
    },
    {
      "cell_type": "code",
      "source": [
        "print('MSE =',((yHat-y)**2).sum()/N)\n",
        "print('MAE =',abs(yHat-y).sum()/N)\n",
        "coefficient_of_dermination = r2_score(y, yHat)\n",
        "print('R^2=',coefficient_of_dermination)"
      ],
      "metadata": {
        "colab": {
          "base_uri": "https://localhost:8080/"
        },
        "id": "lyaC0Qa16fSG",
        "outputId": "c7b44915-11c3-4885-a3f0-e942faeb52f4"
      },
      "execution_count": 90,
      "outputs": [
        {
          "output_type": "stream",
          "name": "stdout",
          "text": [
            "MSE = 0.00013533963840274197\n",
            "MAE = 0.009657394051511064\n",
            "R^2= 0.9636560599375092\n"
          ]
        }
      ]
    },
    {
      "cell_type": "markdown",
      "source": [
        "## P5 Normalizado"
      ],
      "metadata": {
        "id": "zkG-MV0w6jqj"
      }
    },
    {
      "cell_type": "code",
      "source": [
        "# Computing Matrix X\n",
        "X = np.concatenate( [np.ones([N,1]),x,x**2,x**3,x**4,x**5],axis=1)\n",
        "\n",
        "# Solving X.t*X*betas=X.t*b\n",
        "betas = np.linalg.solve(X.T@X,X.T@y)\n",
        "\n",
        "print('b0=',betas[0])\n",
        "print('b1=',betas[1])\n",
        "print('b2=',betas[2])\n",
        "print('b3=',betas[3])\n",
        "print('b4=',betas[4])\n",
        "print('b5=',betas[5])"
      ],
      "metadata": {
        "colab": {
          "base_uri": "https://localhost:8080/"
        },
        "id": "TMqFvxrt6l5v",
        "outputId": "a61c2ab4-08fd-4463-b32a-104a010e244d"
      },
      "execution_count": 91,
      "outputs": [
        {
          "output_type": "stream",
          "name": "stdout",
          "text": [
            "b0= [0.00849612]\n",
            "b1= [3.59926355]\n",
            "b2= [-52.18752244]\n",
            "b3= [385.13115332]\n",
            "b4= [-1226.66316261]\n",
            "b5= [1403.07775001]\n"
          ]
        }
      ]
    },
    {
      "cell_type": "code",
      "source": [
        "# Prediction\n",
        "yHat = X@betas"
      ],
      "metadata": {
        "id": "SfSa44476pM7"
      },
      "execution_count": 92,
      "outputs": []
    },
    {
      "cell_type": "code",
      "source": [
        "# Plot data and model prediction\n",
        "plt.plot(x,y,'*',label='Data')\n",
        "plt.plot(x,yHat,'r',label='Model pred.')\n",
        "\n",
        "plt.legend()\n",
        "plt.show()"
      ],
      "metadata": {
        "colab": {
          "base_uri": "https://localhost:8080/",
          "height": 430
        },
        "id": "KWI7jPmS6rZF",
        "outputId": "f9767a4f-0957-4301-8089-da7c64348cec"
      },
      "execution_count": 93,
      "outputs": [
        {
          "output_type": "display_data",
          "data": {
            "text/plain": [
              "<Figure size 640x480 with 1 Axes>"
            ],
            "image/png": "[encoded data removed]"
          },
          "metadata": {}
        }
      ]
    },
    {
      "cell_type": "code",
      "source": [
        "print('MSE =',((yHat-y)**2).sum()/N)\n",
        "print('MAE =',abs(yHat-y).sum()/N)\n",
        "coefficient_of_dermination = r2_score(y, yHat)\n",
        "print('R^2=',coefficient_of_dermination)"
      ],
      "metadata": {
        "colab": {
          "base_uri": "https://localhost:8080/"
        },
        "id": "KoRqPT096uBY",
        "outputId": "349f34e3-849d-46e1-d12d-fa3450f09522"
      },
      "execution_count": 94,
      "outputs": [
        {
          "output_type": "stream",
          "name": "stdout",
          "text": [
            "MSE = 0.00012454557855251058\n",
            "MAE = 0.009341432945839391\n",
            "R^2= 0.9665546834956744\n"
          ]
        }
      ]
    },
    {
      "cell_type": "markdown",
      "source": [
        "## P5 log"
      ],
      "metadata": {
        "id": "8GbTLM0g_fX8"
      }
    },
    {
      "cell_type": "code",
      "source": [
        "x=datos2['YearsExperience_normalized2']\n",
        "y=datos2['Salary_normalized2']"
      ],
      "metadata": {
        "id": "fldWBtiW_g5F"
      },
      "execution_count": 95,
      "outputs": []
    },
    {
      "cell_type": "code",
      "source": [
        "x=np.array(x).reshape(-1,1) # Mudar para array\n",
        "y=np.array(y).reshape(-1,1) # Mudar para array\n",
        "N = len(y)"
      ],
      "metadata": {
        "id": "z81AxhZ7_j0N"
      },
      "execution_count": 96,
      "outputs": []
    },
    {
      "cell_type": "code",
      "source": [
        "# Computing Matrix X\n",
        "X = np.concatenate( [np.ones([N,1]),x,x**2,x**3,x**4,x**5],axis=1)\n",
        "\n",
        "# Solving X.t*X*betas=X.t*b\n",
        "betas = np.linalg.solve(X.T@X,X.T@y)\n",
        "\n",
        "print('b0=',betas[0])\n",
        "print('b1=',betas[1])\n",
        "print('b2=',betas[2])\n",
        "print('b3=',betas[3])\n",
        "print('b4=',betas[4])\n",
        "print('b5=',betas[5])"
      ],
      "metadata": {
        "colab": {
          "base_uri": "https://localhost:8080/"
        },
        "id": "DjA2yK3X_mfc",
        "outputId": "f582b1f6-1bab-4bef-9d90-b615f879f7ae"
      },
      "execution_count": 97,
      "outputs": [
        {
          "output_type": "stream",
          "name": "stdout",
          "text": [
            "b0= [10.81860355]\n",
            "b1= [-1.59510469]\n",
            "b2= [3.7221755]\n",
            "b3= [-3.35485009]\n",
            "b4= [1.46316737]\n",
            "b5= [-0.23751455]\n"
          ]
        }
      ]
    },
    {
      "cell_type": "code",
      "source": [
        "# Prediction\n",
        "yHat = X@betas"
      ],
      "metadata": {
        "id": "r39tb97p_oKk"
      },
      "execution_count": 98,
      "outputs": []
    },
    {
      "cell_type": "code",
      "source": [
        "# Plot data and model prediction\n",
        "plt.plot(x,y,'*',label='Data')\n",
        "plt.plot(x,yHat,'r',label='Model pred.')\n",
        "\n",
        "plt.legend()\n",
        "plt.show()"
      ],
      "metadata": {
        "id": "0KEyi2X8_qIr",
        "outputId": "5e799260-cddd-4fb4-a9a5-55d4954ec954",
        "colab": {
          "base_uri": "https://localhost:8080/",
          "height": 430
        }
      },
      "execution_count": 99,
      "outputs": [
        {
          "output_type": "display_data",
          "data": {
            "text/plain": [
              "<Figure size 640x480 with 1 Axes>"
            ],
            "image/png": "[encoded data removed]"
          },
          "metadata": {}
        }
      ]
    },
    {
      "cell_type": "code",
      "source": [
        "print('MSE =',((yHat-y)**2).sum()/N)\n",
        "print('MAE =',abs(yHat-y).sum()/N)\n",
        "coefficient_of_dermination = r2_score(y, yHat)\n",
        "print('R^2=',coefficient_of_dermination)"
      ],
      "metadata": {
        "id": "-8ky-bJN_rUE",
        "outputId": "a29c2662-6a91-444e-bb1c-7f31f9e8d577",
        "colab": {
          "base_uri": "https://localhost:8080/"
        }
      },
      "execution_count": 100,
      "outputs": [
        {
          "output_type": "stream",
          "name": "stdout",
          "text": [
            "MSE = 0.006220607698108187\n",
            "MAE = 0.0632880557145007\n",
            "R^2= 0.9526829614536914\n"
          ]
        }
      ]
    }
  ]
}